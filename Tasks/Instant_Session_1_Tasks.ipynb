{
  "nbformat": 4,
  "nbformat_minor": 0,
  "metadata": {
    "colab": {
      "provenance": []
    },
    "kernelspec": {
      "name": "python3",
      "display_name": "Python 3"
    },
    "language_info": {
      "name": "python"
    }
  },
  "cells": [
    {
      "cell_type": "markdown",
      "source": [
        "1- enter a number from useö and print its absolute value."
      ],
      "metadata": {
        "id": "FCjjS1Q9NM0Y"
      }
    },
    {
      "cell_type": "code",
      "execution_count": null,
      "metadata": {
        "colab": {
          "base_uri": "https://localhost:8080/"
        },
        "id": "AZ5_RyGSzPKM",
        "outputId": "370a3450-df83-4a1f-c2cf-501c7635c386"
      },
      "outputs": [
        {
          "output_type": "stream",
          "name": "stdout",
          "text": [
            "Enter Your Number..\n",
            "-21\n",
            "21\n"
          ]
        }
      ],
      "source": [
        "user_number = int(input(\"Enter Your Number..\\n\"))\n",
        "if user_number < 0 :\n",
        "    print(user_number * -1)\n",
        "else :\n",
        "    print (user_number)"
      ]
    },
    {
      "cell_type": "markdown",
      "source": [
        "2- enter a year from user and check if it is leap year or not."
      ],
      "metadata": {
        "id": "H3o1uAYBNYSV"
      }
    },
    {
      "cell_type": "code",
      "source": [
        "leap_year = int(input(\"Enter Any Year..\\n\"))\n",
        "if leap_year %2==0 or leap_year %4==0 or leap_year %100==0 or leap_year %400==0 :\n",
        "    print(\"it's Leap Year\")\n",
        "else :\n",
        "    print(\"it's not Leap Year\")"
      ],
      "metadata": {
        "colab": {
          "base_uri": "https://localhost:8080/"
        },
        "id": "8wZ_puadNWnV",
        "outputId": "8533f372-ec54-423e-cb52-628ba96eaffe"
      },
      "execution_count": null,
      "outputs": [
        {
          "output_type": "stream",
          "name": "stdout",
          "text": [
            "Enter Any Year..\n",
            "2012\n",
            "it's Leap Year\n"
          ]
        }
      ]
    },
    {
      "cell_type": "markdown",
      "source": [
        "3- enter the age of 3 person and print oldest and youngest among them."
      ],
      "metadata": {
        "id": "vAqSXiWaN0Q1"
      }
    },
    {
      "cell_type": "code",
      "source": [
        "hossam = int(input(\"Enter Hossam Age.. \\n\"))\n",
        "ayman = int(input(\"Enter Ayman Age.. \\n\"))\n",
        "ahmed = int(input(\"Enter Ahmed Age.. \\n\"))\n",
        "if hossam > ayman and hossam > ahmed :\n",
        "    print(\"Hossam is Bigger\")\n",
        "elif ayman > hossam and ayman > ahmed:\n",
        "    print(\"Ayman is Bigger\")\n",
        "elif ahmed > hossam and ahmed > ayman :\n",
        "    print(\"Ahmed is Bigger \")\n",
        "if ahmed < hossam and ahmed > ayman :\n",
        "    print(\"Ahmed is Mid\")\n",
        "elif ahmed > hossam and ahmed < ayman :\n",
        "    print(\"Ahmed is Mid\")\n",
        "elif hossam < ayman and hossam > ahmed :\n",
        "    print(\"Hossam is Mid\")\n",
        "elif hossam > ayman and hossam < ahmed :\n",
        "    print(\"Hossam is Mid\")\n",
        "elif ayman < hossam and ayman > ahmed :\n",
        "    print(\"Ayman is Mid\")\n",
        "elif ayman > hossam and ayman < ahmed :\n",
        "    print(\"Ayman is Mid\")\n",
        "if ayman < hossam and ayman < ahmed :\n",
        "    print(\"Ayman is Smaller\")\n",
        "elif ahmed < hossam and ahmed < ayman :\n",
        "    print(\"Ahemd is Smaller\")\n",
        "elif hossam < ayman and hossam < ahmed :\n",
        "    print(\"Hossam is Smaller\")"
      ],
      "metadata": {
        "id": "CEANWMCVOICn",
        "colab": {
          "base_uri": "https://localhost:8080/"
        },
        "outputId": "008bb2ac-e741-4af7-daf4-e9cf0486b6e3"
      },
      "execution_count": null,
      "outputs": [
        {
          "output_type": "stream",
          "name": "stdout",
          "text": [
            "Enter Hossam Age.. \n",
            "20\n",
            "Enter Ayman Age.. \n",
            "17\n",
            "Enter Ahmed Age.. \n",
            "28\n",
            "\n",
            "Ahmed is Bigger \n",
            "Hossam is Mid\n",
            "Ayman is Smaller\n"
          ]
        }
      ]
    },
    {
      "cell_type": "markdown",
      "source": [
        "4- Write a program that asks the user to enter a series of numbers. The program should keep asking for numbers until the user enters a negative number. Once the user enters a negative number, the program should stop asking for numbers and print the sum of all the positive numbers entered."
      ],
      "metadata": {
        "id": "z1QkeyZQhfkO"
      }
    },
    {
      "cell_type": "code",
      "source": [
        "num0 = int(input(\"Enter a Number..\\n\"))\n",
        "num1 = int(input(\"Enter a Number..\\n\"))\n",
        "num2 = int(input(\"Enter a Number..\\n\"))\n",
        "num3 = int(input(\"Enter a Number..\\n\"))\n",
        "num4 = int(input(\"Enter a Number..\\n\"))\n",
        "if (num0)<0 :\n",
        "    print(\"The Sum of The Postive Numbers is \", 0)\n",
        "elif (num1)<0 :\n",
        "    print(\"The Sum of The Postive Numbers is \", num0)\n",
        "elif (num2)<0 :\n",
        "    print(\"The Sum of The Postive Numbers is \", num0 + num1)\n",
        "elif (num3)<0 :\n",
        "    print(\"The Sum of The Postive Numbers is \", num0 + num1 + num2)\n",
        "elif (num4)<0 :\n",
        "    print(\"The Sum of The Postive Numbers is \", num0 + num1 + num2 + num3)\n",
        "else :\n",
        "    print(\"The Sum of The Postive Numbers is \", num0 + num1 + num2 + num3 + num4)"
      ],
      "metadata": {
        "id": "aV7c9Uj_hjBD",
        "colab": {
          "base_uri": "https://localhost:8080/"
        },
        "outputId": "48ad54ff-6443-4603-dcc0-34e0f46c630b"
      },
      "execution_count": null,
      "outputs": [
        {
          "output_type": "stream",
          "name": "stdout",
          "text": [
            "Enter a Number..\n",
            "5\n",
            "Enter a Number..\n",
            "1\n",
            "Enter a Number..\n",
            "2\n",
            "Enter a Number..\n",
            "-4\n",
            "Enter a Number..\n",
            "7\n",
            "The Sum of The Postive Numbers is  8\n"
          ]
        }
      ]
    },
    {
      "cell_type": "markdown",
      "source": [
        "5- Write a program that asks the user to enter their name and age. The program should check if the user's age is greater than or equal to 18. If it is, the program should print a message saying they are eligible to vote. Otherwise, the program should print a message saying they are not eligible to vote due to being underage."
      ],
      "metadata": {
        "id": "qKzoDzCahNKH"
      }
    },
    {
      "cell_type": "code",
      "source": [
        "user = input(\"Enter Your Name...\\n\")\n",
        "user_age = int(input(\"Enter Your Age...\\n\"))\n",
        "if user_age >= 18 :\n",
        "    print(user + \", You are Eligible To Vote.\")\n",
        "else :\n",
        "    print(user + \", You are Not Eligible To Vote Due To Being Underage.\")"
      ],
      "metadata": {
        "colab": {
          "base_uri": "https://localhost:8080/"
        },
        "id": "R_pNmL-Ohb88",
        "outputId": "63c4ef13-3a92-4859-bf60-3e31032caf1e"
      },
      "execution_count": null,
      "outputs": [
        {
          "output_type": "stream",
          "name": "stdout",
          "text": [
            "Enter Your Name...\n",
            "Fam\n",
            "Enter Your Age...\n",
            "21\n",
            "Fam, You are Eligible To Vote.\n"
          ]
        }
      ]
    }
  ]
}
