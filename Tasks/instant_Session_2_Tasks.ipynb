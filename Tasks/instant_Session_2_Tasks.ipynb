{
  "nbformat": 4,
  "nbformat_minor": 0,
  "metadata": {
    "colab": {
      "provenance": []
    },
    "kernelspec": {
      "name": "python3",
      "display_name": "Python 3"
    },
    "language_info": {
      "name": "python"
    }
  },
  "cells": [
    {
      "cell_type": "markdown",
      "source": [
        "# Session 2 Tasks"
      ],
      "metadata": {
        "id": "N8blBjfzqU6I"
      }
    },
    {
      "cell_type": "markdown",
      "source": [
        "1. Create 3 variables to store street, city and country, now create address variable to\n",
        "store entire address. Use two ways of creating this variable, one using + operator and the other using f-string.\n",
        "Now Print the address in such a way that the stree\\t, city and country prints in a separate line\n"
      ],
      "metadata": {
        "id": "10XjML4cqZa4"
      }
    },
    {
      "cell_type": "code",
      "execution_count": null,
      "metadata": {
        "id": "P4EUN6nuqUPf",
        "colab": {
          "base_uri": "https://localhost:8080/"
        },
        "outputId": "5bd10178-11e8-4293-9f1e-aa65650d62f2"
      },
      "outputs": [
        {
          "output_type": "stream",
          "name": "stdout",
          "text": [
            "Enter your Street : Sami Al Okxory\n",
            "Enter your City : Cairo\n",
            "Enter your Country : Egypt\n",
            "Sami Al Okxory, Cairo, Egypt\n"
          ]
        }
      ],
      "source": [
        "f1 = input(\"Enter your Street : \")\n",
        "f2 = input(\"Enter your City : \")\n",
        "f3 = input(\"Enter your Country : \")\n",
        "f_all = (f\"{f1}, {f2}, \"+f3)\n",
        "print(f_all)"
      ]
    },
    {
      "cell_type": "markdown",
      "source": [
        "2. Create a variable to store the string \"Earth revolves around the sun\"\n",
        "    1. Print \"revolves\" using slice operator\n",
        "    2. Print \"sun\" using negative index"
      ],
      "metadata": {
        "id": "VJsoS4gioThv"
      }
    },
    {
      "cell_type": "code",
      "source": [
        "f1 = (\"Earth Revolves Around the Sun\")\n",
        "print(f1[6:14]) #1\n",
        "print(f1[-3:])  #2"
      ],
      "metadata": {
        "id": "vRgoFJ3-oWwR",
        "colab": {
          "base_uri": "https://localhost:8080/"
        },
        "outputId": "7bed5f42-f226-4625-9419-68165d059379"
      },
      "execution_count": null,
      "outputs": [
        {
          "output_type": "stream",
          "name": "stdout",
          "text": [
            "Revolves\n",
            "Sun\n"
          ]
        }
      ]
    },
    {
      "cell_type": "markdown",
      "source": [
        "3. Create two variables to store how many fruits and vegetables you eat in a day.\n",
        "Now Print \"I eat x veggies and y fruits daily\" where x and y presents vegetables and fruits that you eat everyday. Use python f string for this."
      ],
      "metadata": {
        "id": "5C8nEPbnoXOh"
      }
    },
    {
      "cell_type": "code",
      "source": [
        "fruits = 5\n",
        "vegetables = 8\n",
        "print(f\"I Eat {vegetables} Veggies and {fruits} Fruits Daily\")"
      ],
      "metadata": {
        "id": "1bRAJV4CoaC2",
        "colab": {
          "base_uri": "https://localhost:8080/"
        },
        "outputId": "94c5945f-f92b-4966-d6d2-db521e4f326a"
      },
      "execution_count": null,
      "outputs": [
        {
          "output_type": "stream",
          "name": "stdout",
          "text": [
            "I Eat 5 Veggies and 8 Fruits Daily\n"
          ]
        }
      ]
    },
    {
      "cell_type": "markdown",
      "source": [
        "4. I have a string variable called s='maine 200 banana khaye'. This of course is a\n",
        "wrong statement, the correct statement is 'maine 10 samosa khaye'.\n",
        "Replace incorrect words in original strong with new ones and print the new string.\n",
        "Also try to do this in one line."
      ],
      "metadata": {
        "id": "vvY6_WvQob2T"
      }
    },
    {
      "cell_type": "code",
      "source": [
        "s ='maine 200 banana khaye'\n",
        "s = s.replace('200 banana', '10 samosa')\n",
        "print(s)"
      ],
      "metadata": {
        "id": "DQ0kgqT0oczh",
        "colab": {
          "base_uri": "https://localhost:8080/"
        },
        "outputId": "5b05bef1-e61c-4709-9545-e68683f44e5b"
      },
      "execution_count": null,
      "outputs": [
        {
          "output_type": "stream",
          "name": "stdout",
          "text": [
            "maine 10 samosa khaye\n"
          ]
        }
      ]
    },
    {
      "cell_type": "markdown",
      "source": [
        "5. Let us say your expense for every month are listed below.\n",
        "\t  1. January -  2200\n",
        "    2. February - 2350\n",
        "    3. March - 2600\n",
        "    4. April - 2130\n",
        "    5. May - 2190\n",
        "\n",
        "Create a list to store these monthly expenses and using that find out,\n",
        "\n",
        "    1. In Feb, how many dollars you spent extra compare to January?\n",
        "    2. Find out your total expense in first quarter (first three months) of the year.\n",
        "    3. Find out if you spent exactly 2000 dollars in any month\n",
        "    4. June month just finished and your expense is 1980 dollar. Add this item to our monthly expense list\n",
        "    5. You returned an item that you bought in a month of April and\n",
        "    got a refund of 200$. Make a correction to your monthly expense list\n",
        "    based on this\n",
        "\n",
        "\n",
        "\n"
      ],
      "metadata": {
        "id": "B98K3rbAqz7e"
      }
    },
    {
      "cell_type": "code",
      "source": [
        "f1 = [2200, 2350, 2600, 2130, 2190]\n",
        "\n",
        "if f1[0] < f1[1] :   #1\n",
        "    print(\"February expenses are higher than January\")\n",
        "else :\n",
        "    print(\"January expenses are higher than February \")\n",
        "\n",
        "print(sum(f1[:3]))   #2\n",
        "\n",
        "if 2000 == f1 :      #3\n",
        "    print(\"true\")\n",
        "else :\n",
        "    print(\"false\")\n",
        "\n",
        "f1.insert(5, 1980)   #4\n",
        "print(f1)\n",
        "\n",
        "f1[3] = 1930         #5\n",
        "print(f1)"
      ],
      "metadata": {
        "id": "vvus0ZOlrzJS",
        "colab": {
          "base_uri": "https://localhost:8080/"
        },
        "outputId": "4f09a0d7-bcf7-44f1-94df-3f8e9f4c51be"
      },
      "execution_count": null,
      "outputs": [
        {
          "output_type": "stream",
          "name": "stdout",
          "text": [
            "February expenses are higher than January\n",
            "7150\n",
            "false\n",
            "[2200, 2350, 2600, 2130, 2190, 1980]\n",
            "[2200, 2350, 2600, 1930, 2190, 1980]\n"
          ]
        }
      ]
    },
    {
      "cell_type": "markdown",
      "source": [
        "6. You have a list of your favourite marvel super heros.\n",
        "```\n",
        "heros=['spider man','thor','hulk','iron man','captain america']\n",
        "```\n",
        "\n",
        "Using this find out,\n",
        "\n",
        "    1. Length of the list\n",
        "    2. Add 'black panther' at the end of this list\n",
        "    3. You realize that you need to add 'black panther' after 'hulk',\n",
        "       so remove it from the list first and then add it after 'hulk'\n",
        "    4. Now you don't like thor and hulk because they get angry easily :)\n",
        "       So you want to remove thor and hulk from list and replace them with doctor strange (because he is cool).\n",
        "       Do that with one line of code.\n",
        "    5. Sort the heros list in alphabetical order (Hint. Use dir() functions to list down all functions available in list)\n"
      ],
      "metadata": {
        "id": "uMw_gLWfpEfC"
      }
    },
    {
      "cell_type": "code",
      "source": [
        "heros=['spider man','thor','hulk','iron man','captain america']\n",
        "print(len(heros)) #1\n",
        "\n",
        "heros.append('black panther') #2\n",
        "print(heros)\n",
        "\n",
        "heros.remove('black panther') #3\n",
        "heros.insert(3,'black panther')\n",
        "print(heros)\n",
        "\n",
        "heros[1:3] = ['doctor strange'] #4\n",
        "print(heros)\n",
        "\n",
        "heros.sort() #5\n",
        "print(heros)"
      ],
      "metadata": {
        "colab": {
          "base_uri": "https://localhost:8080/"
        },
        "id": "mwMWOr2YMZv6",
        "outputId": "fce87863-7645-4407-a7bb-1edb0db05c85"
      },
      "execution_count": null,
      "outputs": [
        {
          "output_type": "stream",
          "name": "stdout",
          "text": [
            "5\n",
            "['spider man', 'thor', 'hulk', 'iron man', 'captain america', 'black panther']\n",
            "['spider man', 'thor', 'hulk', 'black panther', 'iron man', 'captain america']\n",
            "['spider man', 'doctor strange', 'black panther', 'iron man', 'captain america']\n",
            "['black panther', 'captain america', 'doctor strange', 'iron man', 'spider man']\n"
          ]
        }
      ]
    },
    {
      "cell_type": "markdown",
      "source": [
        "7. Write a program that prints following shape\n",
        "\n",
        "```\n",
        "    *\n",
        "   ***\n",
        "  *****\n",
        " *******\n",
        "*********\n",
        " *******\n",
        "  *****\n",
        "   ***\n",
        "    *\n",
        "```\n",
        "\n"
      ],
      "metadata": {
        "id": "ojrpvhohrzgJ"
      }
    },
    {
      "cell_type": "code",
      "source": [
        "i = 0\n",
        "l = 4\n",
        "while i <= 8 :\n",
        "    i += 1\n",
        "    if i %2 == 0 :\n",
        "        continue\n",
        "    else :\n",
        "        print(\" \" * l, \"*\" * i)\n",
        "    l -= 1\n",
        "##########################################\n",
        "i = 8\n",
        "l = 1\n",
        "while i >= 1 :\n",
        "    i -=1\n",
        "    if i %2 == 0 :\n",
        "        continue\n",
        "    else :\n",
        "        print(\" \" * l, \"*\" * i)\n",
        "    l +=1"
      ],
      "metadata": {
        "id": "Ad-hutpdsCJ6",
        "colab": {
          "base_uri": "https://localhost:8080/"
        },
        "outputId": "440b518b-24e2-487a-ded4-88e15e272b43"
      },
      "execution_count": null,
      "outputs": [
        {
          "output_type": "stream",
          "name": "stdout",
          "text": [
            "     *\n",
            "    ***\n",
            "   *****\n",
            "  *******\n",
            " *********\n",
            "  *******\n",
            "   *****\n",
            "    ***\n",
            "     *\n"
          ]
        }
      ]
    }
  ]
}